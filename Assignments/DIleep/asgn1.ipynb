{
  "nbformat": 4,
  "nbformat_minor": 0,
  "metadata": {
    "colab": {
      "provenance": []
    },
    "kernelspec": {
      "name": "python3",
      "display_name": "Python 3"
    },
    "language_info": {
      "name": "python"
    }
  },
  "cells": [
    {
      "cell_type": "code",
      "execution_count": 11,
      "metadata": {
        "colab": {
          "base_uri": "https://localhost:8080/"
        },
        "id": "QN9aXQTBmqod",
        "outputId": "5a50ef8e-acd0-4434-895f-48757cf9439c"
      },
      "outputs": [
        {
          "output_type": "stream",
          "name": "stdout",
          "text": [
            "[1, 2, 3, 4, 5, 6, 7, 8]\n"
          ]
        }
      ],
      "source": [
        "#task1\n",
        "\n",
        "a = [1,2,3]\n",
        "\n",
        "b = [4,5,6,7,8]\n",
        "\n",
        "c= a + b\n",
        "\n",
        "print(c)"
      ]
    },
    {
      "cell_type": "code",
      "source": [
        "# task2\n",
        "\n",
        "i = int(input(\"Enter a number\"))\n",
        "if(i%2==0):\n",
        "  print(\"Its a even number\")\n",
        "else:\n",
        "  print(\"Its a odd number\")"
      ],
      "metadata": {
        "colab": {
          "base_uri": "https://localhost:8080/"
        },
        "id": "ly6cuqFjnlao",
        "outputId": "795d9fc0-6631-45c3-db28-62a529c4144c"
      },
      "execution_count": 12,
      "outputs": [
        {
          "output_type": "stream",
          "name": "stdout",
          "text": [
            "Enter a number66\n",
            "Its a even number\n"
          ]
        }
      ]
    },
    {
      "cell_type": "code",
      "source": [
        "# task3\n",
        "\n",
        "mydict = {\n",
        "    'a': [1,2],\n",
        "    'b': [3,4],\n",
        "    'c': [5,6]\n",
        "}"
      ],
      "metadata": {
        "id": "x-hyLzUXoSy-"
      },
      "execution_count": 13,
      "outputs": []
    },
    {
      "cell_type": "code",
      "source": [
        "# task4\n",
        "\n",
        "def findOdd(inputlist):\n",
        "  for i in inputlist:\n",
        "    if i%2==1:\n",
        "      print(i)\n",
        "\n",
        "findOdd(c)"
      ],
      "metadata": {
        "colab": {
          "base_uri": "https://localhost:8080/"
        },
        "id": "xHkfjPOIo7VM",
        "outputId": "87ccfbda-1528-40c9-ebc0-0bdeea760eab"
      },
      "execution_count": 14,
      "outputs": [
        {
          "output_type": "stream",
          "name": "stdout",
          "text": [
            "1\n",
            "3\n",
            "5\n",
            "7\n"
          ]
        }
      ]
    },
    {
      "cell_type": "code",
      "source": [
        "# task5\n",
        "\n",
        "def sumlist(inputlist):\n",
        "  sum = 0\n",
        "  for i in inputlist:\n",
        "    sum += i\n",
        "  print(sum)\n",
        "\n",
        "sumlist([8,2,3,0,7])"
      ],
      "metadata": {
        "colab": {
          "base_uri": "https://localhost:8080/"
        },
        "id": "P3uVmfUtpcL7",
        "outputId": "0f2e48d9-933a-4aef-cb52-9cfe9d1cabd1"
      },
      "execution_count": 16,
      "outputs": [
        {
          "output_type": "stream",
          "name": "stdout",
          "text": [
            "20\n"
          ]
        }
      ]
    }
  ]
}