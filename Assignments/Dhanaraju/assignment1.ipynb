{
  "nbformat": 4,
  "nbformat_minor": 0,
  "metadata": {
    "colab": {
      "provenance": []
    },
    "kernelspec": {
      "name": "python3",
      "display_name": "Python 3"
    },
    "language_info": {
      "name": "python"
    }
  },
  "cells": [
    {
      "cell_type": "code",
      "execution_count": 1,
      "metadata": {
        "colab": {
          "base_uri": "https://localhost:8080/"
        },
        "id": "QN9aXQTBmqod",
        "outputId": "8b9143a9-572b-458f-f456-f4433cb3b55e"
      },
      "outputs": [
        {
          "output_type": "stream",
          "name": "stdout",
          "text": [
            "[1, 2, 3, 4, 5, 6, 7, 8]\n"
          ]
        }
      ],
      "source": [
        "#create two list and join those two list\n",
        "\n",
        "list1 = [1,2,3,4]\n",
        "\n",
        "list2 = [5,6,7,8]\n",
        "\n",
        "list3 = list1 + list2\n",
        "\n",
        "print(list3)"
      ]
    },
    {
      "cell_type": "code",
      "source": [
        "# finding even numbers with if statement\n",
        "\n",
        "for i in list3:\n",
        "  if i%2==0:\n",
        "    print(i)\n"
      ],
      "metadata": {
        "colab": {
          "base_uri": "https://localhost:8080/"
        },
        "id": "ly6cuqFjnlao",
        "outputId": "7eb523f7-75a3-4d7b-c752-0a9e220ae38a"
      },
      "execution_count": 2,
      "outputs": [
        {
          "output_type": "stream",
          "name": "stdout",
          "text": [
            "2\n",
            "4\n",
            "6\n",
            "8\n"
          ]
        }
      ]
    },
    {
      "cell_type": "code",
      "source": [
        "# dict with 3 keys and 2 values for each key\n",
        "\n",
        "dict1 = {\n",
        "    'key1': ['v1','v2'],\n",
        "    'key2': ['v3','v4'],\n",
        "    'key3': ['v5','v6']\n",
        "}"
      ],
      "metadata": {
        "id": "x-hyLzUXoSy-"
      },
      "execution_count": 3,
      "outputs": []
    },
    {
      "cell_type": "code",
      "source": [
        "# function to find odd numbers\n",
        "\n",
        "def findOdd(lt):\n",
        "  for i in lt:\n",
        "    if i%2==1:\n",
        "      print(i)\n",
        "\n",
        "findOdd(list3)"
      ],
      "metadata": {
        "colab": {
          "base_uri": "https://localhost:8080/"
        },
        "id": "xHkfjPOIo7VM",
        "outputId": "be21425e-2ba6-4c0d-c00a-7a1466ab2037"
      },
      "execution_count": 4,
      "outputs": [
        {
          "output_type": "stream",
          "name": "stdout",
          "text": [
            "1\n",
            "3\n",
            "5\n",
            "7\n"
          ]
        }
      ]
    },
    {
      "cell_type": "code",
      "source": [
        "# function to summ all the numbers\n",
        "\n",
        "def sumOfList(lt):\n",
        "  sum = 0\n",
        "  for i in lt:\n",
        "    sum += i\n",
        "  print(sum)\n",
        "\n",
        "sumOfList([8,2,3,0,7])"
      ],
      "metadata": {
        "colab": {
          "base_uri": "https://localhost:8080/"
        },
        "id": "P3uVmfUtpcL7",
        "outputId": "b4b03828-bfc2-4f92-eeb0-ce5542aef362"
      },
      "execution_count": 5,
      "outputs": [
        {
          "output_type": "stream",
          "name": "stdout",
          "text": [
            "20\n"
          ]
        }
      ]
    }
  ]
}