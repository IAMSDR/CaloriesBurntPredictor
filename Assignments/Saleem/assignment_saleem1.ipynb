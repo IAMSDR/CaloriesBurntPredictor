{
  "nbformat": 4,
  "nbformat_minor": 0,
  "metadata": {
    "colab": {
      "provenance": []
    },
    "kernelspec": {
      "name": "python3",
      "display_name": "Python 3"
    },
    "language_info": {
      "name": "python"
    }
  },
  "cells": [
    {
      "cell_type": "code",
      "execution_count": 1,
      "metadata": {
        "colab": {
          "base_uri": "https://localhost:8080/"
        },
        "id": "QN9aXQTBmqod",
        "outputId": "cc1b1d41-5227-4845-f3bc-df99b2d97419"
      },
      "outputs": [
        {
          "output_type": "stream",
          "name": "stdout",
          "text": [
            "[1, 2, 3, 4, 5, 6, 7, 8]\n"
          ]
        }
      ],
      "source": [
        "#task1\n",
        "\n",
        "a = [1,2,3]\n",
        "\n",
        "b = [4,5,6,7,8]\n",
        "\n",
        "result = a + b\n",
        "\n",
        "print(result)"
      ]
    },
    {
      "cell_type": "code",
      "source": [
        "# task2\n",
        "\n",
        "i = int(input(\"Enter a number\"))\n",
        "if(i%2==0):\n",
        "  print(\"Its a even number\")\n",
        "else:\n",
        "  print(\"Its a odd number\")"
      ],
      "metadata": {
        "colab": {
          "base_uri": "https://localhost:8080/"
        },
        "id": "ly6cuqFjnlao",
        "outputId": "3bd6d99d-6d62-4b86-dd6f-9dd14554bf41"
      },
      "execution_count": 2,
      "outputs": [
        {
          "output_type": "stream",
          "name": "stdout",
          "text": [
            "Enter a number24\n",
            "Its a even number\n"
          ]
        }
      ]
    },
    {
      "cell_type": "code",
      "source": [
        "# task3\n",
        "\n",
        "mydict = {\n",
        "    'a': [1,2],\n",
        "    'b': [3,4],\n",
        "    'c': [5,6]\n",
        "}"
      ],
      "metadata": {
        "id": "x-hyLzUXoSy-"
      },
      "execution_count": 3,
      "outputs": []
    },
    {
      "cell_type": "code",
      "source": [
        "# task4\n",
        "\n",
        "def findOdd(inputlist):\n",
        "  for i in inputlist:\n",
        "    if i%2==1:\n",
        "      print(i)\n",
        "\n",
        "findOdd(result)"
      ],
      "metadata": {
        "colab": {
          "base_uri": "https://localhost:8080/"
        },
        "id": "xHkfjPOIo7VM",
        "outputId": "ff8a2c0f-28aa-40aa-ec1a-2d931452575e"
      },
      "execution_count": 5,
      "outputs": [
        {
          "output_type": "stream",
          "name": "stdout",
          "text": [
            "1\n",
            "3\n",
            "5\n",
            "7\n"
          ]
        }
      ]
    },
    {
      "cell_type": "code",
      "source": [
        "# task5\n",
        "\n",
        "def sumlist(inputlist):\n",
        "  sum = 0\n",
        "  for i in inputlist:\n",
        "    sum += i\n",
        "  print(sum)\n",
        "\n",
        "sumlist([8,2,3,0,7])"
      ],
      "metadata": {
        "colab": {
          "base_uri": "https://localhost:8080/"
        },
        "id": "P3uVmfUtpcL7",
        "outputId": "e1ef112b-2d7b-40d0-fcd5-ddae36d5f15e"
      },
      "execution_count": 6,
      "outputs": [
        {
          "output_type": "stream",
          "name": "stdout",
          "text": [
            "20\n"
          ]
        }
      ]
    }
  ]
}